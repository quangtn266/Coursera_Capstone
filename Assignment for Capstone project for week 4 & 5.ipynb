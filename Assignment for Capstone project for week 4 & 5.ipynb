{
    "cells": [
        {
            "metadata": {
                "collapsed": true
            },
            "cell_type": "markdown",
            "source": "# Capstone Project for week 4 & 5"
        },
        {
            "metadata": {},
            "cell_type": "markdown",
            "source": "## Define my problem.\n### Problem statement: Danang city in Vietnam is a famous city with a long beach. In the city, there ara many restaurants around the beach.\n### However, to built at their appropriate location, It's very difficult due to location, rent, kind of restaurant... \n### Using Foursquare appplication and Machine learning in Python extract data and create a data table about those information."
        },
        {
            "metadata": {},
            "cell_type": "markdown",
            "source": "# Describe the data\n## The data includes:\n### Distrinct.\n### The longitute and latitude.\n### The kind of restaurant (category) such as sea food, pizza, or something else.\n## To solve my problem:\n### Firstly, I need to collect those mentioned data.\n### Secondly, I generate a data table with those information.\n### Next, I base on the region (distrinct) to classify restaurant. (K-means)\n### Next, I use visualizing map.\n###"
        }
    ],
    "metadata": {
        "kernelspec": {
            "name": "python3",
            "display_name": "Python 3.7",
            "language": "python"
        },
        "language_info": {
            "name": "python",
            "version": "3.7.9",
            "mimetype": "text/x-python",
            "codemirror_mode": {
                "name": "ipython",
                "version": 3
            },
            "pygments_lexer": "ipython3",
            "nbconvert_exporter": "python",
            "file_extension": ".py"
        }
    },
    "nbformat": 4,
    "nbformat_minor": 1
}