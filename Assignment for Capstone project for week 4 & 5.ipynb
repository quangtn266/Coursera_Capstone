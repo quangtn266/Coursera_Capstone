{
    "cells": [
        {
            "cell_type": "markdown",
            "metadata": {
                "collapsed": true
            },
            "source": "# Capstone Project for week 4 & 5"
        },
        {
            "cell_type": "markdown",
            "metadata": {},
            "source": "## Define my problem.\n### Problem statement: Vietnam is a beatiful country with a plenty of islands. However, to determine their location such as longitude, lattitude, and region, It's very difficult.\n### For example: Hoang Sa, Truong Sa belong to Vietnam.\n### Those location helps the tourist as well as citizen to gain with the full of knowledge about Vietnam.\n### So, the tourist want to know Vietnam's history and other things. It improves many good things such as economy, ...\n### Using Foursquare appplication and Machine learning in Python extract data and create a data table about those information."
        }
    ],
    "metadata": {
        "kernelspec": {
            "display_name": "Python 3.7",
            "language": "python",
            "name": "python3"
        },
        "language_info": {
            "codemirror_mode": {
                "name": "ipython",
                "version": 3
            },
            "file_extension": ".py",
            "mimetype": "text/x-python",
            "name": "python",
            "nbconvert_exporter": "python",
            "pygments_lexer": "ipython3",
            "version": "3.7.9"
        }
    },
    "nbformat": 4,
    "nbformat_minor": 1
}